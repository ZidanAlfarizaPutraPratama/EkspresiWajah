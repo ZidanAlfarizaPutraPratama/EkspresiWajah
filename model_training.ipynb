{
 "cells": [
  {
   "cell_type": "code",
   "execution_count": 1,
   "metadata": {},
   "outputs": [],
   "source": [
    "from google.colab import drive\n",
    "drive.mount('/content/drive')"
   ]
  },
  {
   "cell_type": "code",
   "execution_count": 2,
   "metadata": {},
   "outputs": [],
   "source": [
    "!pip install tensorflow keras opencv-python pandas scikit-learn kaggle"
   ]
  },
  {
   "cell_type": "code",
   "execution_count": 3,
   "metadata": {},
   "outputs": [],
   "source": [
    "import os\n",
    "# Membuat folder .kaggle dan memindahkan file kaggle.json ke folder tersebut\n",
    "os.makedirs('/root/.kaggle', exist_ok=True)\n",
    "# Ganti dengan path ke file kaggle.json yang telah diunggah ke Colab\n",
    "!cp /content/kaggle.json /root/.kaggle/\n",
    "\n",
    "# Mengatur permission file agar dapat digunakan\n",
    "!chmod 600 /root/.kaggle/kaggle.json"
   ]
  },
  {
   "cell_type": "code",
   "execution_count": 4,
   "metadata": {},
   "outputs": [],
   "source": [
    "# Mengunduh dataset FER2013 dari Kaggle\n",
    "!kaggle datasets download -d msambare/fer2013"
   ]
  },
  {
   "cell_type": "code",
   "execution_count": 5,
   "metadata": {},
   "outputs": [],
   "source": [
    "# Mengekstrak file ZIP dataset\n",
    "!unzip fer2013.zip -d /content/fer2013"
   ]
  },
  {
   "cell_type": "code",
   "execution_count": 6,
   "id": "b531151c",
   "metadata": {},
   "outputs": [],
   "source": [
    "import pandas as pd\n",
    "import numpy as np\n",
    "import cv2\n",
    "\n",
    "# Menyiapkan data untuk training\n",
    "X = []\n",
    "y = []\n",
    "emotion_dict = {0: 'angry', 1: 'disgust', 2: 'fear', 3: 'happy', 4: 'neutral', 5: 'sad', 6: 'surprise'}\n",
    "\n",
    "# Menambahkan data gambar dan label\n",
    "image_paths = ['/content/fer2013/images/'+file for file in os.listdir('/content/fer2013/images/')]\n",
    "for image_path in image_paths:\n",
    "    # Membaca gambar\n",
    "    img = cv2.imread(image_path)\n",
    "    gray = cv2.cvtColor(img, cv2.COLOR_BGR2GRAY)\n",
    "    gray = cv2.resize(gray, (48, 48))\n",
    "    gray = np.expand_dims(gray, axis=-1)  # Menambahkan channel grayscale\n",
    "    gray = gray / 255.0  # Normalisasi gambar\n",
    "    X.append(gray)\n",
    "\n",
    "# Membaca label dari file CSV\n",
    "labels = pd.read_csv('/content/fer2013/fer2013.csv')\n",
    "for index, row in labels.iterrows():\n",
    "    y.append(row['emotion'])\n",
    "\n",
    "X = np.array(X)\n",
    "y = np.array(y)\n",
    "\n",
    "# Membagi data menjadi data latih dan data uji\n",
    "from sklearn.model_selection import train_test_split\n",
    "X_train, X_test, y_train, y_test = train_test_split(X, y, test_size=0.2, random_state=42)\n",
    "print(f\"Data Training: {X_train.shape}, Data Testing: {X_test.shape}\")"
   ]
  },
  {
   "cell_type": "code",
   "execution_count": 7,
   "id": "2ed3e453",
   "metadata": {},
   "outputs": [],
   "source": [
    "import tensorflow as tf\n",
    "from tensorflow.keras import layers, models\n",
    "\n",
    "# Membuat model CNN untuk deteksi ekspresi wajah\n",
    "model = models.Sequential([\n",
    "    layers.Conv2D(64, (3, 3), activation='relu', input_shape=(48, 48, 1)),\n",
    "    layers.MaxPooling2D((2, 2)),\n",
    "    layers.Conv2D(128, (3, 3), activation='relu'),\n",
    "    layers.MaxPooling2D((2, 2)),\n",
    "    layers.Conv2D(256, (3, 3), activation='relu'),\n",
    "    layers.Flatten(),\n",
    "    layers.Dense(512, activation='relu'),\n",
    "    layers.Dense(7, activation='softmax')  # 7 kelas ekspresi (Angry, Disgust, Fear, Happy, Sad, Surprise, Neutral)\n",
    "])\n",
    "\n",
    "# Menyusun model\n",
    "model.compile(optimizer='adam', loss='sparse_categorical_crossentropy', metrics=['accuracy'])\n",
    "\n",
    "# Melihat ringkasan model\n",
    "model.summary()"
   ]
  },
  {
   "cell_type": "code",
   "execution_count": 8,
   "id": "261f4b10",
   "metadata": {},
   "outputs": [],
   "source": [
    "# Melatih model\n",
    "history = model.fit(X_train, y_train, epochs=10, validation_data=(X_test, y_test))\n",
    "\n",
    "# Menyimpan model setelah pelatihan selesai\n",
    "model.save('/content/drive/MyDrive/face_analysis_project/models/emotion_model.h5')"
   ]
  },
  {
   "cell_type": "code",
   "execution_count": 9,
   "id": "1343cdea",
   "metadata": {},
   "outputs": [],
   "source": [
    "import matplotlib.pyplot as plt\n",
    "\n",
    "# Plot akurasi training dan validasi\n",
    "plt.figure(figsize=(12, 6))\n",
    "plt.subplot(1, 2, 1)\n",
    "plt.plot(history.history['accuracy'], label='Training Accuracy')\n",
    "plt.plot(history.history['val_accuracy'], label='Validation Accuracy')\n",
    "plt.title('Model Accuracy')\n",
    "plt.xlabel('Epochs')\n",
    "plt.ylabel('Accuracy')\n",
    "plt.legend()\n",
    "\n",
    "# Plot loss training dan validasi\n",
    "plt.subplot(1, 2, 2)\n",
    "plt.plot(history.history['loss'], label='Training Loss')\n",
    "plt.plot(history.history['val_loss'], label='Validation Loss')\n",
    "plt.title('Model Loss')\n",
    "plt.xlabel('Epochs')\n",
    "plt.ylabel('Loss')\n",
    "plt.legend()\n",
    "\n",
    "plt.show()"
   ]
  },
  {
   "cell_type": "code",
   "execution_count": 10,
   "id": "c0e88b49",
   "metadata": {},
   "outputs": [],
   "source": [
    "# Model disimpan di Google Drive setelah pelatihan selesai\n",
    "model.save('/content/drive/MyDrive/face_analysis_project/models/emotion_model.h5')"
   ]
  },
  {
   "cell_type": "code",
   "execution_count": 11,
   "id": "67900f0e",
   "metadata": {},
   "outputs": [],
   "source": [
    "# Menggunakan model untuk memprediksi ekspresi wajah pada gambar baru\n",
    "def predict_expression(image):\n",
    "    image = cv2.cvtColor(image, cv2.COLOR_BGR2GRAY)  # Mengubah gambar ke grayscale\n",
    "    image = cv2.resize(image, (48, 48))  # Ubah ukuran gambar menjadi 48x48\n",
    "    image = image.reshape(1, 48, 48, 1)  # Ubah bentuknya menjadi (1, 48, 48, 1)\n",
    "    image = image / 255.0  # Normalisasi\n",
    "    prediction = model.predict(image)\n",
    "    emotion_index = np.argmax(prediction)  # Mengambil indeks kelas dengan probabilitas tertinggi\n",
    "    emotions = ['Angry', 'Disgust', 'Fear', 'Happy', 'Sad', 'Surprise', 'Neutral']\n",
    "    return emotions[emotion_index]\n",
    "\n",
    "# Contoh penggunaan\n",
    "img = cv2.imread('/content/drive/MyDrive/face_analysis_project/data/fer2013/images/sample_image.jpg')\n",
    "expression = predict_expression(img)\n",
    "print(f\"Predicted Expression: {expression}\")"
   ]
  }
 ],
 "metadata": {
  "kernelspec": {
   "display_name": "Python 3",
   "language": "python",
   "name": "python3"
  },
  "language_info": {
   "name": "python",
   "version": "3.8.16"
  }
 },
 "nbformat": 4,
 "nbformat_minor": 5
}
